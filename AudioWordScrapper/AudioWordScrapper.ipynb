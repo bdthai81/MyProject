{
 "cells": [
  {
   "cell_type": "code",
   "execution_count": 1,
   "metadata": {},
   "outputs": [],
   "source": [
    "# Dependencies\n",
    "from splinter import Browser\n",
    "from selenium import webdriver\n",
    "from config import login, pwd\n",
    "import time\n",
    "import os"
   ]
  },
  {
   "cell_type": "code",
   "execution_count": 2,
   "metadata": {},
   "outputs": [],
   "source": [
    "# Assign audio Keyword to download & the languages prefer\n",
    "keyword = \"google\"\n",
    "# Samples: en:English, de:German, ja:Japanese, fr:French, es:Spanish, zh: Mandarin Chinese\n",
    "languages = [\"en\", \"de\"]"
   ]
  },
  {
   "cell_type": "code",
   "execution_count": 3,
   "metadata": {},
   "outputs": [],
   "source": [
    "# Create new keyword subdirectory if it doesn't exist\n",
    "path = os.getcwd()\n",
    "if not os.path.exists(f\"{path}/{keyword}\"):\n",
    "    os.mkdir(f\"{path}/{keyword}\")\n",
    "\n",
    "# Adjust Chrome's default download directory to the (keyword) subfolder\n",
    "chrome_options = webdriver.ChromeOptions()\n",
    "prefs = {'download.default_directory' : f'{path}/{keyword}'}\n",
    "chrome_options.add_experimental_option('prefs', prefs)\n",
    " \n",
    "browser = Browser('chrome', options=chrome_options)"
   ]
  },
  {
   "cell_type": "code",
   "execution_count": 4,
   "metadata": {},
   "outputs": [],
   "source": [
    "# Goto Website's Log in\n",
    "url = 'https://forvo.com/login/'\n",
    "browser.visit(url)\n",
    "# Give 2 second delay for webpage to load\n",
    "time.sleep(2)"
   ]
  },
  {
   "cell_type": "code",
   "execution_count": 5,
   "metadata": {},
   "outputs": [],
   "source": [
    "# Fill in login and password\n",
    "browser.fill('login', f'{login}')\n",
    "browser.fill('password', f'{pwd}')\n",
    "buttons = browser.find_by_tag('button')\n",
    "\n",
    "# Loop through buttons for enter\n",
    "for button in buttons:\n",
    "    if button.text == 'Enter':\n",
    "        # Submit log in\n",
    "        button.scroll_to()\n",
    "        button.click()"
   ]
  },
  {
   "cell_type": "code",
   "execution_count": 6,
   "metadata": {},
   "outputs": [],
   "source": [
    "# URL of page to be scraped for audio keyword\n",
    "url = f'https://forvo.com/word/{keyword}/#en'\n",
    "browser.visit(url)\n",
    "# Give 2 second delay for webpage to load\n",
    "time.sleep(2)"
   ]
  },
  {
   "cell_type": "code",
   "execution_count": 7,
   "metadata": {},
   "outputs": [
    {
     "name": "stdout",
     "output_type": "stream",
     "text": [
      "downloaded en: 41\n",
      "downloaded de: 3\n"
     ]
    }
   ],
   "source": [
    "# Examine the results, then determine element that contains sought info\n",
    "# download results are returned as an iterable list\n",
    "\n",
    "# Loop thru languages we want to scrape\n",
    "for language in languages:\n",
    "    #scape download files by language\n",
    "    downloads = browser.find_by_css(f'span[data-p3=\"{language}\"]')\n",
    "    counter = 0\n",
    "    # Loop Through downloads and download each file\n",
    "    for download in downloads:\n",
    "        download.scroll_to()\n",
    "        download.click()\n",
    "        time.sleep(0.5)\n",
    "        counter += 1\n",
    "        \n",
    "    print (f\"downloaded {language}: {counter}\")\n",
    "    "
   ]
  }
 ],
 "metadata": {
  "kernelspec": {
   "display_name": "Python 3",
   "language": "python",
   "name": "python3"
  },
  "language_info": {
   "codemirror_mode": {
    "name": "ipython",
    "version": 3
   },
   "file_extension": ".py",
   "mimetype": "text/x-python",
   "name": "python",
   "nbconvert_exporter": "python",
   "pygments_lexer": "ipython3",
   "version": "3.6.8"
  }
 },
 "nbformat": 4,
 "nbformat_minor": 2
}
